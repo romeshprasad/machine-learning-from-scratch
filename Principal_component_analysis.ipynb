{
  "nbformat": 4,
  "nbformat_minor": 0,
  "metadata": {
    "colab": {
      "provenance": [],
      "authorship_tag": "ABX9TyPG1ZrUSUHsAUsPJzTvnlBF",
      "include_colab_link": true
    },
    "kernelspec": {
      "name": "python3",
      "display_name": "Python 3"
    },
    "language_info": {
      "name": "python"
    }
  },
  "cells": [
    {
      "cell_type": "markdown",
      "metadata": {
        "id": "view-in-github",
        "colab_type": "text"
      },
      "source": [
        "<a href=\"https://colab.research.google.com/github/romeshprasad/machine-learning-from-scratch/blob/main/Principal_component_analysis.ipynb\" target=\"_parent\"><img src=\"https://colab.research.google.com/assets/colab-badge.svg\" alt=\"Open In Colab\"/></a>"
      ]
    },
    {
      "cell_type": "markdown",
      "source": [
        "Here I used a simple example to test what are the functions with the PCA library"
      ],
      "metadata": {
        "id": "cVYJkrJ3ynTA"
      }
    },
    {
      "cell_type": "code",
      "execution_count": null,
      "metadata": {
        "id": "g9tVp8NIyjQD"
      },
      "outputs": [],
      "source": [
        "import numpy as np\n",
        "import pandas as pd\n",
        "import matplotlib.pyplot as plt"
      ]
    },
    {
      "cell_type": "code",
      "source": [
        "from sklearn.decomposition import PCA"
      ],
      "metadata": {
        "id": "rKRg3AdGuq0s"
      },
      "execution_count": null,
      "outputs": []
    },
    {
      "cell_type": "code",
      "source": [
        "dataset = pd.read_csv('Wine.csv')"
      ],
      "metadata": {
        "id": "XIBpQtiBu3Q3"
      },
      "execution_count": null,
      "outputs": []
    },
    {
      "cell_type": "code",
      "source": [
        "dataset.shape"
      ],
      "metadata": {
        "colab": {
          "base_uri": "https://localhost:8080/"
        },
        "id": "nMz-BHGau9qf",
        "outputId": "c5bd7916-3e24-4179-e08a-5999aed50931"
      },
      "execution_count": null,
      "outputs": [
        {
          "output_type": "execute_result",
          "data": {
            "text/plain": [
              "(178, 14)"
            ]
          },
          "metadata": {},
          "execution_count": 4
        }
      ]
    },
    {
      "cell_type": "code",
      "source": [
        "?PCA"
      ],
      "metadata": {
        "id": "uTPWu4C0vCsR"
      },
      "execution_count": null,
      "outputs": []
    },
    {
      "cell_type": "code",
      "source": [
        "pca = PCA(n_components=6) #number of components or dimension"
      ],
      "metadata": {
        "id": "cLWO2W8PvuyM"
      },
      "execution_count": null,
      "outputs": []
    },
    {
      "cell_type": "code",
      "source": [
        "x = pca.fit(dataset) #fit the dataset"
      ],
      "metadata": {
        "id": "sRUgqQcAvyu4"
      },
      "execution_count": null,
      "outputs": []
    },
    {
      "cell_type": "code",
      "source": [
        "print(pca.explained_variance_ratio_) #how much variance is explained by each of the selected components"
      ],
      "metadata": {
        "colab": {
          "base_uri": "https://localhost:8080/"
        },
        "id": "VqOwiTdTv4-_",
        "outputId": "6aaccdab-62d0-4adc-964e-25e776e6e519"
      },
      "execution_count": null,
      "outputs": [
        {
          "output_type": "stream",
          "name": "stdout",
          "text": [
            "[9.98087625e-01 1.73591851e-03 9.58948998e-05 5.13200714e-05\n",
            " 1.29365230e-05 8.73476385e-06]\n"
          ]
        }
      ]
    },
    {
      "cell_type": "code",
      "source": [
        "print(pca.explained_variance_) #The amount of variance explained by each of the selected components.\n",
        "#Equal to n_components largest eigenvalues of the covariance matrix of X. "
      ],
      "metadata": {
        "colab": {
          "base_uri": "https://localhost:8080/"
        },
        "id": "0dqI0WVawz0u",
        "outputId": "f6d02717-e5a9-416e-faf0-23048db360ef"
      },
      "execution_count": null,
      "outputs": [
        {
          "output_type": "stream",
          "name": "stdout",
          "text": [
            "[9.92020307e+04 1.72536596e+02 9.53119601e+00 5.10080996e+00\n",
            " 1.28578826e+00 8.68166571e-01]\n"
          ]
        }
      ]
    },
    {
      "cell_type": "code",
      "source": [
        "print(pca.singular_values_)"
      ],
      "metadata": {
        "colab": {
          "base_uri": "https://localhost:8080/"
        },
        "id": "dJmilBb6xNIZ",
        "outputId": "5e741b43-71d8-4693-c6c2-211f1356366c"
      },
      "execution_count": null,
      "outputs": [
        {
          "output_type": "stream",
          "name": "stdout",
          "text": [
            "[4190.31734352  174.75404845   41.07336964   30.04735202   15.08590476\n",
            "   12.39618825]\n"
          ]
        }
      ]
    },
    {
      "cell_type": "code",
      "source": [
        "print(pca.mean_)"
      ],
      "metadata": {
        "colab": {
          "base_uri": "https://localhost:8080/"
        },
        "id": "L4OQYvkCxbCG",
        "outputId": "df4f5024-54e4-476b-8f81-e45c774d3b0d"
      },
      "execution_count": null,
      "outputs": [
        {
          "output_type": "stream",
          "name": "stdout",
          "text": [
            "[1.30006180e+01 2.33634831e+00 2.36651685e+00 1.94949438e+01\n",
            " 9.97415730e+01 2.29511236e+00 2.02926966e+00 3.61853933e-01\n",
            " 1.59089888e+00 5.05808988e+00 9.57449438e-01 2.61168539e+00\n",
            " 7.46893258e+02 1.93820225e+00]\n"
          ]
        }
      ]
    },
    {
      "cell_type": "code",
      "source": [
        "print(x)"
      ],
      "metadata": {
        "colab": {
          "base_uri": "https://localhost:8080/"
        },
        "id": "tfrc81sQwPyp",
        "outputId": "e9e3e64b-94a6-46a7-9a4f-a6a849ee39b6"
      },
      "execution_count": null,
      "outputs": [
        {
          "output_type": "stream",
          "name": "stdout",
          "text": [
            "PCA(n_components=8)\n"
          ]
        }
      ]
    },
    {
      "cell_type": "code",
      "source": [
        "print(pca.singular_values_)"
      ],
      "metadata": {
        "colab": {
          "base_uri": "https://localhost:8080/"
        },
        "id": "83p9Batwv-fd",
        "outputId": "597bf170-d864-4534-c8cc-6d88904a5e34"
      },
      "execution_count": null,
      "outputs": [
        {
          "output_type": "stream",
          "name": "stdout",
          "text": [
            "[4190.31734352  174.75404845   41.07336964   30.04735202   15.08590476\n",
            "   12.39618825    7.12742829    5.24255439]\n"
          ]
        }
      ]
    }
  ]
}